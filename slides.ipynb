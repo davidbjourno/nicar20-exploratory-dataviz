{
 "cells": [
  {
   "cell_type": "markdown",
   "metadata": {
    "slideshow": {
     "slide_type": "slide"
    }
   },
   "source": [
    "# Introduction to data reporting with Python\n",
    "\n",
    "Guardian Visuals\n",
    "\n",
    "7 December, 2022\n",
    "\n",
    "Workbook 👉 [bit.ly/gv-python](https://bit.ly/gv-python)"
   ]
  },
  {
   "cell_type": "markdown",
   "metadata": {
    "slideshow": {
     "slide_type": "slide"
    }
   },
   "source": [
    "## 🥅 Goals\n",
    "\n",
    "1. Introducing JupyterLab/basic data visualisation using Altair\n",
    "2. Workflow for private collaborative data reporting\n",
    "3. Introducing kepler.gl for geospatial visualisation"
   ]
  },
  {
   "cell_type": "markdown",
   "metadata": {
    "slideshow": {
     "slide_type": "slide"
    }
   },
   "source": [
    "## 📊 Introducing JupyterLab/basic Python data visualisation using Altair\n",
    "\n",
    "* 📺 [Intro to Jupyter](https://youtu.be/A5YyoCKxEOU)\n",
    "* 📺 [Intro to code cells](https://youtu.be/A5YyoCKxEOU?t=281)"
   ]
  },
  {
   "cell_type": "code",
   "execution_count": null,
   "metadata": {
    "slideshow": {
     "slide_type": "fragment"
    }
   },
   "outputs": [],
   "source": [
    "# I'm a code cell. Type Shift-Enter to execute me!\n",
    "\n",
    "x = 42\n",
    "\n",
    "print(x)"
   ]
  },
  {
   "cell_type": "code",
   "execution_count": null,
   "metadata": {
    "slideshow": {
     "slide_type": "subslide"
    }
   },
   "outputs": [],
   "source": [
    "# I'm a code cell. Type Shift-Enter to execute me!\n",
    "\n",
    "x = 42\n",
    "\n",
    "print(x)"
   ]
  },
  {
   "cell_type": "markdown",
   "metadata": {
    "slideshow": {
     "slide_type": "slide"
    }
   },
   "source": [
    "### Load example data"
   ]
  },
  {
   "cell_type": "code",
   "execution_count": null,
   "metadata": {
    "slideshow": {
     "slide_type": "fragment"
    }
   },
   "outputs": [],
   "source": [
    "from vega_datasets import data\n",
    "\n",
    "df_cars = data.cars()\n",
    "\n",
    "print(data.cars.description)\n",
    "\n",
    "df_cars"
   ]
  },
  {
   "cell_type": "code",
   "execution_count": null,
   "metadata": {
    "slideshow": {
     "slide_type": "subslide"
    }
   },
   "outputs": [],
   "source": [
    "from vega_datasets import data\n",
    "\n",
    "df_cars = data.cars()\n",
    "\n",
    "print(data.cars.description)\n",
    "\n",
    "df_cars"
   ]
  },
  {
   "cell_type": "markdown",
   "metadata": {
    "slideshow": {
     "slide_type": "slide"
    }
   },
   "source": [
    "### An interactive graphic in <strike>three</strike> <strike>six</strike> a few lines of code"
   ]
  },
  {
   "cell_type": "code",
   "execution_count": null,
   "metadata": {
    "slideshow": {
     "slide_type": "fragment"
    }
   },
   "outputs": [],
   "source": [
    "import altair as alt\n",
    "\n",
    "alt.Chart(df_cars).mark_circle().encode(\n",
    "    x=\"Horsepower\",  # X axis variable!\n",
    "    y=\"Miles_per_Gallon\",  # Y axis variable!\n",
    "    color=\"Origin\",  # Colour variable!\n",
    ")"
   ]
  },
  {
   "cell_type": "code",
   "execution_count": null,
   "metadata": {
    "slideshow": {
     "slide_type": "subslide"
    }
   },
   "outputs": [],
   "source": [
    "import altair as alt\n",
    "\n",
    "alt.Chart(df_cars).mark_circle().encode(\n",
    "    x=\"Horsepower\",  # X axis variable!\n",
    "    y=\"Miles_per_Gallon\",  # Y axis variable!\n",
    "    color=\"Origin\",  # Colour variable!\n",
    ")"
   ]
  },
  {
   "cell_type": "code",
   "execution_count": null,
   "metadata": {
    "slideshow": {
     "slide_type": "subslide"
    }
   },
   "outputs": [],
   "source": [
    "import altair as alt\n",
    "\n",
    "alt.Chart(df_cars).mark_circle(size=60).encode(  # Increase size of circles\n",
    "    x=\"Horsepower\",\n",
    "    y=\"Miles_per_Gallon\",\n",
    "    color=\"Origin\",\n",
    "    tooltip=[\"Name\", \"Origin\", \"Horsepower\", \"Miles_per_Gallon\"],  # Add tooltips\n",
    ")"
   ]
  },
  {
   "cell_type": "code",
   "execution_count": null,
   "metadata": {
    "slideshow": {
     "slide_type": "subslide"
    }
   },
   "outputs": [],
   "source": [
    "import altair as alt\n",
    "\n",
    "alt.Chart(df_cars).mark_circle(size=60).encode(  # Increase size of circles\n",
    "    x=\"Horsepower\",\n",
    "    y=\"Miles_per_Gallon\",\n",
    "    color=\"Origin\",\n",
    "    tooltip=[\"Name\", \"Origin\", \"Horsepower\", \"Miles_per_Gallon\"],  # Add tooltips\n",
    ")"
   ]
  },
  {
   "cell_type": "code",
   "execution_count": null,
   "metadata": {
    "slideshow": {
     "slide_type": "subslide"
    }
   },
   "outputs": [],
   "source": [
    "import altair as alt\n",
    "\n",
    "alt.Chart(df_cars).mark_circle(size=60).encode(\n",
    "    x=\"Horsepower\",\n",
    "    y=\"Miles_per_Gallon\",\n",
    "    color=\"Origin\",\n",
    "    tooltip=[\"Name\", \"Origin\", \"Horsepower\", \"Miles_per_Gallon\"],\n",
    ").interactive()  # Add interactivity"
   ]
  },
  {
   "cell_type": "markdown",
   "metadata": {
    "slideshow": {
     "slide_type": "slide"
    }
   },
   "source": [
    "### [altair-viz.github.io/gallery/index.html](altair-viz.github.io/gallery/index.html)\n",
    "\n",
    "Try recreating one or two of the Altair examples in your workbook. Many of them use vega_datasets for their example data.\n",
    "\n",
    "<img src=\"images/02-altair-gallery.png\" alt=\"The Altair example gallery\" style=\"height: 400px;\"/>"
   ]
  },
  {
   "cell_type": "markdown",
   "metadata": {
    "slideshow": {
     "slide_type": "slide"
    }
   },
   "source": [
    "## 👩‍💻👨‍💻 Workflow for private collaborative data reporting\n",
    "\n",
    "### Create a secret gist\n",
    "\n",
    "1. Login to github.com (github.com/login).\n",
    "2. Click the plus menu in the top right corner then ‘New gist’.\n",
    "\n",
    "<img src=\"images/03-gist-create-new.png\" alt=\"Creating a new GitHub gist\" style=\"height: 400px;\"/>"
   ]
  },
  {
   "cell_type": "markdown",
   "metadata": {
    "slideshow": {
     "slide_type": "slide"
    }
   },
   "source": [
    "3. In the text box where it says ‘Filename including extension…’, give your gist the filename `ira-users-hashed.csv`. **The filename must end in .csv for it to format correctly on GitHub.**\n",
    "4. Open your local copy of `ira-users-hashed.csv` in whichever of the text editors on your machine you like (you should find that Atom, Sublime Text and Visual Studio Code are all installed). Select the entire contents of the file (Command-A) then copy them to the clipboard (Command-C).\n",
    "5. Paste the contents of the file into the text box (where there's a `1`).\n",
    "\n",
    "<img src=\"images/04-gist-paste-data.png\" alt=\"Pasting CSV data into a new GitHub gist\" style=\"height: 400px;\"/>"
   ]
  },
  {
   "cell_type": "markdown",
   "metadata": {
    "slideshow": {
     "slide_type": "slide"
    }
   },
   "source": [
    "1. Click ‘Create secret gist’. You should see some nicely formatted data!\n",
    "2. Click the ‘Raw’ button to navigate to the plain text URL of your new gist and copy the URL to the clipboard.\n",
    "\n",
    "<img src=\"images/05-gist-formatted.png\" alt=\"Formatted CSV gist\" style=\"height: 400px;\"/>"
   ]
  },
  {
   "cell_type": "markdown",
   "metadata": {
    "slideshow": {
     "slide_type": "slide"
    }
   },
   "source": [
    "### Load data using pandas\n",
    "\n",
    "Data 👉 [bit.ly/ira-users-hashed](bit.ly/ira-users-hashed)"
   ]
  },
  {
   "cell_type": "code",
   "execution_count": null,
   "metadata": {
    "slideshow": {
     "slide_type": "fragment"
    }
   },
   "outputs": [],
   "source": [
    "import pandas as pd\n",
    "\n",
    "df_twitter = pd.read_csv(\"https://bit.ly/ira-users-hashed\")\n",
    "\n",
    "df_twitter.head()"
   ]
  },
  {
   "cell_type": "code",
   "execution_count": null,
   "metadata": {
    "slideshow": {
     "slide_type": "subslide"
    }
   },
   "outputs": [],
   "source": [
    "import pandas as pd\n",
    "\n",
    "df_twitter = pd.read_csv(\"https://bit.ly/ira-users-hashed\")\n",
    "\n",
    "df_twitter.head()"
   ]
  },
  {
   "cell_type": "markdown",
   "metadata": {
    "slideshow": {
     "slide_type": "slide"
    },
    "tags": []
   },
   "source": [
    "### Inspect with pandas-profiling"
   ]
  },
  {
   "cell_type": "code",
   "execution_count": null,
   "metadata": {
    "slideshow": {
     "slide_type": "fragment"
    },
    "tags": []
   },
   "outputs": [],
   "source": [
    "from pandas_profiling import ProfileReport\n",
    "\n",
    "profile  = ProfileReport(df_twitter, minimal=True)\n",
    "\n",
    "profile.to_widgets()"
   ]
  },
  {
   "cell_type": "markdown",
   "metadata": {
    "slideshow": {
     "slide_type": "slide"
    }
   },
   "source": [
    "### Reverse-engineer account creation date"
   ]
  },
  {
   "cell_type": "code",
   "execution_count": null,
   "metadata": {
    "slideshow": {
     "slide_type": "fragment"
    }
   },
   "outputs": [],
   "source": [
    "df_twitter[\"date_created\"] = df_twitter[\"days_active\"].apply(\n",
    "    lambda d: pd.to_datetime(\"2018-10-01\") - pd.DateOffset(days=d)\n",
    ")\n",
    "\n",
    "df_twitter.head()"
   ]
  },
  {
   "cell_type": "code",
   "execution_count": null,
   "metadata": {
    "slideshow": {
     "slide_type": "subslide"
    }
   },
   "outputs": [],
   "source": [
    "df_twitter[\"date_created\"] = df_twitter[\"days_active\"].apply(\n",
    "    lambda d: pd.to_datetime(\"2018-10-01\") - pd.DateOffset(days=d)\n",
    ")\n",
    "\n",
    "df_twitter.head()"
   ]
  },
  {
   "cell_type": "markdown",
   "metadata": {
    "slideshow": {
     "slide_type": "slide"
    }
   },
   "source": [
    "### Plot using Altair"
   ]
  },
  {
   "cell_type": "code",
   "execution_count": null,
   "metadata": {
    "slideshow": {
     "slide_type": "fragment"
    }
   },
   "outputs": [],
   "source": [
    "alt.Chart(df_twitter).mark_circle(size=60).encode(\n",
    "    x=\"date_created:T\",\n",
    "    y=\"tweet_count:Q\",\n",
    "    color=\"account_language:N\",\n",
    "    tooltip=[\"date_created\", \"tweet_count\", \"account_language\"],\n",
    ").interactive().properties(width=600, height=400)"
   ]
  },
  {
   "cell_type": "code",
   "execution_count": null,
   "metadata": {
    "slideshow": {
     "slide_type": "subslide"
    }
   },
   "outputs": [],
   "source": [
    "alt.Chart(df_twitter).mark_circle(size=60).encode(\n",
    "    x=\"date_created:T\",\n",
    "    y=\"tweet_count:Q\",\n",
    "    color=\"account_language:N\",\n",
    "    tooltip=[\"date_created\", \"tweet_count\", \"account_language\"],\n",
    ").interactive().properties(width=600, height=400)"
   ]
  },
  {
   "cell_type": "markdown",
   "metadata": {
    "slideshow": {
     "slide_type": "slide"
    }
   },
   "source": [
    "## 🗺 Introducing kepler.gl for geospatial visualisation"
   ]
  },
  {
   "cell_type": "markdown",
   "metadata": {
    "slideshow": {
     "slide_type": "slide"
    }
   },
   "source": [
    "### Load data using pandas"
   ]
  },
  {
   "cell_type": "code",
   "execution_count": null,
   "metadata": {
    "slideshow": {
     "slide_type": "fragment"
    }
   },
   "outputs": [],
   "source": [
    "import pandas as pd\n",
    "\n",
    "df_ghosn = pd.read_csv(\"http://bit.ly/flight-data\")\n",
    "\n",
    "df_ghosn"
   ]
  },
  {
   "cell_type": "code",
   "execution_count": null,
   "metadata": {
    "slideshow": {
     "slide_type": "subslide"
    }
   },
   "outputs": [],
   "source": [
    "import pandas as pd\n",
    "\n",
    "df_ghosn = pd.read_csv(\"http://bit.ly/flight-data\")\n",
    "\n",
    "df_ghosn"
   ]
  },
  {
   "cell_type": "markdown",
   "metadata": {
    "slideshow": {
     "slide_type": "slide"
    }
   },
   "source": [
    "### Create empty map"
   ]
  },
  {
   "cell_type": "code",
   "execution_count": null,
   "metadata": {
    "slideshow": {
     "slide_type": "fragment"
    }
   },
   "outputs": [],
   "source": [
    "from keplergl import KeplerGl\n",
    "\n",
    "map_1 = KeplerGl(height=600)\n",
    "config = {\n",
    "    \"version\": \"v1\",\n",
    "    \"config\": {\n",
    "        \"mapState\": {\n",
    "            \"latitude\": 29.9511,\n",
    "            \"longitude\": -90.0715,\n",
    "            \"zoom\": 5,\n",
    "        }\n",
    "    }\n",
    "}\n",
    "map_1.config = config\n",
    "\n",
    "map_1"
   ]
  },
  {
   "cell_type": "markdown",
   "metadata": {
    "slideshow": {
     "slide_type": "subslide"
    }
   },
   "source": [
    "<code>User Guide: <a>https://github.com/keplergl/kepler.gl/blob/master/docs/keplergl-jupyter/user-guide.md</a></code>\n",
    "\n",
    "<img src=\"images/06-keplergl-empty.png\" alt=\"An empty kepler.gl map\" style=\"height: 400px;\"/>"
   ]
  },
  {
   "cell_type": "markdown",
   "metadata": {
    "slideshow": {
     "slide_type": "slide"
    }
   },
   "source": [
    "### Add data to map"
   ]
  },
  {
   "cell_type": "code",
   "execution_count": null,
   "metadata": {
    "slideshow": {
     "slide_type": "fragment"
    }
   },
   "outputs": [],
   "source": [
    "map_1.add_data(data=df_ghosn, name=\"Ghosn transponder data\")"
   ]
  },
  {
   "cell_type": "markdown",
   "metadata": {
    "slideshow": {
     "slide_type": "subslide"
    }
   },
   "source": [
    "<img src=\"images/07-keplergl-data.png\" alt=\"A kepler.gl map with data\" style=\"height: 400px;\"/>"
   ]
  },
  {
   "cell_type": "markdown",
   "metadata": {
    "slideshow": {
     "slide_type": "slide"
    }
   },
   "source": [
    "### Save map to HTML"
   ]
  },
  {
   "cell_type": "code",
   "execution_count": null,
   "metadata": {
    "slideshow": {
     "slide_type": "fragment"
    }
   },
   "outputs": [],
   "source": [
    "map_1.save_to_html(\n",
    "    data={\"Ghosn transponder data\": df_ghosn},\n",
    "    config=config,\n",
    "    file_name=\"keplergl_map.html\",\n",
    ")"
   ]
  },
  {
   "cell_type": "markdown",
   "metadata": {
    "slideshow": {
     "slide_type": "fragment"
    }
   },
   "source": [
    "<code>Map saved to kepler_map.html!</code>"
   ]
  },
  {
   "cell_type": "markdown",
   "metadata": {
    "slideshow": {
     "slide_type": "slide"
    }
   },
   "source": [
    "1. Click on the Jupyter logo in the top left corner to see all the files in the current project (just click yes if it asks you if you're sure).\n",
    "2. Click on `keplergl_map.html`.\n",
    "\n",
    "<img src=\"images/08-repo-files.png\" alt=\"The Jupyter notebook file browser\" style=\"height: 400px;\"/>"
   ]
  },
  {
   "cell_type": "markdown",
   "metadata": {
    "slideshow": {
     "slide_type": "slide"
    }
   },
   "source": [
    "## 🤓 Further reading\n",
    "\n",
    "* [pandas documentation](https://pandas.pydata.org/docs/)\n",
    "* [First Python Notebook](https://palewi.re/docs/first-python-notebook/) (online course by Ben Welsh of LAT)\n",
    "* [Interviewing your data, visually, in Python](https://github.com/aplayford/nicar17-python-dataviz/blob/master/final_presentation.ipynb) (workshop by Adam Playford and Nat Lash)\n",
    "* [Python for Data Analysis, 3rd Edition](https://wesmckinney.com/book/) - Wes McKinney\n",
    "* [The Turing Way](https://the-turing-way.netlify.app/welcome.html) (handbook for reproducible, ethical and collaborative data science)"
   ]
  },
  {
   "cell_type": "code",
   "execution_count": null,
   "metadata": {},
   "outputs": [],
   "source": []
  }
 ],
 "metadata": {
  "kernelspec": {
   "display_name": "Python 3 (ipykernel)",
   "language": "python",
   "name": "python3"
  },
  "language_info": {
   "codemirror_mode": {
    "name": "ipython",
    "version": 3
   },
   "file_extension": ".py",
   "mimetype": "text/x-python",
   "name": "python",
   "nbconvert_exporter": "python",
   "pygments_lexer": "ipython3",
   "version": "3.9.7"
  }
 },
 "nbformat": 4,
 "nbformat_minor": 4
}
